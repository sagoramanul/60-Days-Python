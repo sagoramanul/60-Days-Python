{
 "cells": [
  {
   "cell_type": "code",
   "execution_count": 1,
   "id": "8e68f44b-aad1-40e6-8376-4048e88e73e0",
   "metadata": {},
   "outputs": [
    {
     "name": "stdout",
     "output_type": "stream",
     "text": [
      "Hello\n"
     ]
    }
   ],
   "source": [
    "print('Hello')"
   ]
  },
  {
   "cell_type": "code",
   "execution_count": 3,
   "id": "334e2865-b305-416e-97b4-2a0a1c5b3955",
   "metadata": {},
   "outputs": [
    {
     "data": {
      "text/plain": [
       "100"
      ]
     },
     "execution_count": 3,
     "metadata": {},
     "output_type": "execute_result"
    }
   ],
   "source": [
    "67+33"
   ]
  },
  {
   "cell_type": "code",
   "execution_count": 5,
   "id": "6ce2f7c8-4850-4a87-9b06-0534a510c4f5",
   "metadata": {},
   "outputs": [
    {
     "name": "stdout",
     "output_type": "stream",
     "text": [
      "Today My First Day in Jupyter Notebook\n"
     ]
    }
   ],
   "source": [
    "print('Today My First Day in Jupyter Notebook')"
   ]
  },
  {
   "cell_type": "code",
   "execution_count": 7,
   "id": "bbbe5c28-da08-4239-be45-d64513154eb8",
   "metadata": {},
   "outputs": [
    {
     "name": "stdout",
     "output_type": "stream",
     "text": [
      "10025\n"
     ]
    }
   ],
   "source": [
    "a = 5025\n",
    "b = 5000\n",
    "c = a+b\n",
    "\n",
    "print(c)"
   ]
  },
  {
   "cell_type": "code",
   "execution_count": null,
   "id": "72cb8838-9cab-457d-9b16-9bd246d16bf5",
   "metadata": {},
   "outputs": [],
   "source": []
  }
 ],
 "metadata": {
  "kernelspec": {
   "display_name": "Python 3 (ipykernel)",
   "language": "python",
   "name": "python3"
  },
  "language_info": {
   "codemirror_mode": {
    "name": "ipython",
    "version": 3
   },
   "file_extension": ".py",
   "mimetype": "text/x-python",
   "name": "python",
   "nbconvert_exporter": "python",
   "pygments_lexer": "ipython3",
   "version": "3.12.4"
  }
 },
 "nbformat": 4,
 "nbformat_minor": 5
}
