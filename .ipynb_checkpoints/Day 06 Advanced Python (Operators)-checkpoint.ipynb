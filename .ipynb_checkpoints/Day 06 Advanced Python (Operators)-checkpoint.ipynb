{
 "cells": [
  {
   "cell_type": "markdown",
   "id": "3bcac349-fd80-4218-9f6d-1d9049481322",
   "metadata": {},
   "source": [
    "# Arithmetic Operators"
   ]
  },
  {
   "cell_type": "code",
   "execution_count": 24,
   "id": "b4422b4e-1bfe-4155-a00c-0d53282e92e6",
   "metadata": {},
   "outputs": [
    {
     "name": "stdout",
     "output_type": "stream",
     "text": [
      "20\n",
      "10\n",
      "3.0\n",
      "75\n",
      "0\n",
      "759375\n",
      "3\n"
     ]
    }
   ],
   "source": [
    "# Assigning Variable\n",
    "x = 15\n",
    "y = 5\n",
    "z = 6\n",
    "\n",
    "print(x+y) #Addition\n",
    "print(x-y) #Subtraction\n",
    "print(x/y) #Division\n",
    "print(x*y) #Multiplication\n",
    "print(x%y) #Modulus\n",
    "print(x**y) #Exponentiation\n",
    "print(x//y) #Floor division"
   ]
  },
  {
   "cell_type": "markdown",
   "id": "3275846a-4dcd-4564-b451-ca502358573d",
   "metadata": {},
   "source": [
    "# Identity Operator"
   ]
  },
  {
   "cell_type": "code",
   "execution_count": 27,
   "id": "f8181aca-5682-42e2-a47e-4dbe8ee441fc",
   "metadata": {},
   "outputs": [
    {
     "data": {
      "text/plain": [
       "True"
      ]
     },
     "execution_count": 27,
     "metadata": {},
     "output_type": "execute_result"
    }
   ],
   "source": [
    "x = 10\n",
    "y = 10\n",
    "\n",
    "x is y"
   ]
  },
  {
   "cell_type": "code",
   "execution_count": 38,
   "id": "0af7458d-a215-4c94-a31e-4b76a267a61f",
   "metadata": {},
   "outputs": [
    {
     "data": {
      "text/plain": [
       "True"
      ]
     },
     "execution_count": 38,
     "metadata": {},
     "output_type": "execute_result"
    }
   ],
   "source": [
    "x = 12056\n",
    "y = x\n",
    "z = 12056\n",
    "\n",
    "x is y"
   ]
  },
  {
   "cell_type": "code",
   "execution_count": 40,
   "id": "99b8d692-8370-486b-9246-0bb8c698918c",
   "metadata": {},
   "outputs": [
    {
     "data": {
      "text/plain": [
       "False"
      ]
     },
     "execution_count": 40,
     "metadata": {},
     "output_type": "execute_result"
    }
   ],
   "source": [
    "x is z"
   ]
  },
  {
   "cell_type": "code",
   "execution_count": 54,
   "id": "aa15745e-9dfb-4f35-8ab5-ef35f42e2082",
   "metadata": {},
   "outputs": [
    {
     "data": {
      "text/plain": [
       "2397889950000"
      ]
     },
     "execution_count": 54,
     "metadata": {},
     "output_type": "execute_result"
    }
   ],
   "source": [
    "# The False reason of x is z is:\n",
    "id(x) #id is different"
   ]
  },
  {
   "cell_type": "code",
   "execution_count": 62,
   "id": "edd8b03c-5d7f-467b-931f-66d2931cc448",
   "metadata": {},
   "outputs": [
    {
     "data": {
      "text/plain": [
       "2397889948112"
      ]
     },
     "execution_count": 62,
     "metadata": {},
     "output_type": "execute_result"
    }
   ],
   "source": [
    "id(z) #id is different"
   ]
  },
  {
   "cell_type": "markdown",
   "id": "fbf746c8-de92-46bc-89e1-d640f2e3a893",
   "metadata": {},
   "source": [
    "# Comperism Operator"
   ]
  },
  {
   "cell_type": "code",
   "execution_count": 65,
   "id": "e69c7cfa-cc59-47a9-a7a4-c2336bf23e97",
   "metadata": {},
   "outputs": [
    {
     "data": {
      "text/plain": [
       "True"
      ]
     },
     "execution_count": 65,
     "metadata": {},
     "output_type": "execute_result"
    }
   ],
   "source": [
    "x == z"
   ]
  },
  {
   "cell_type": "markdown",
   "id": "aa1d00ce-8f15-4c11-91a2-fef32e67a846",
   "metadata": {},
   "source": [
    "# Membership Operator"
   ]
  },
  {
   "cell_type": "code",
   "execution_count": 68,
   "id": "b7f04cc6-0e32-46ee-b6f7-bd12c6fcf183",
   "metadata": {},
   "outputs": [
    {
     "data": {
      "text/plain": [
       "True"
      ]
     },
     "execution_count": 68,
     "metadata": {},
     "output_type": "execute_result"
    }
   ],
   "source": [
    "list1 = [1,2,3,4,5,6]\n",
    "\n",
    "1 in list1"
   ]
  },
  {
   "cell_type": "code",
   "execution_count": 70,
   "id": "dc0860f5-fe07-4034-9b4c-b02da4ec4d2a",
   "metadata": {},
   "outputs": [
    {
     "data": {
      "text/plain": [
       "False"
      ]
     },
     "execution_count": 70,
     "metadata": {},
     "output_type": "execute_result"
    }
   ],
   "source": [
    "10 in list1"
   ]
  },
  {
   "cell_type": "code",
   "execution_count": 72,
   "id": "e2d95c8f-228e-436d-b170-512cc6471500",
   "metadata": {},
   "outputs": [
    {
     "data": {
      "text/plain": [
       "True"
      ]
     },
     "execution_count": 72,
     "metadata": {},
     "output_type": "execute_result"
    }
   ],
   "source": [
    "10 not in list1"
   ]
  },
  {
   "cell_type": "markdown",
   "id": "342fd9dd-1731-4c93-b56d-a7af60f35087",
   "metadata": {},
   "source": [
    "# Python Bitwise Operator"
   ]
  },
  {
   "cell_type": "markdown",
   "id": "8a6a8d00-47fa-47b5-978f-3814f43edf4b",
   "metadata": {},
   "source": [
    "x = 1010\n",
    "y = 0101\n",
    "\n",
    "x | y = 1111\n",
    "x & y = 0000"
   ]
  },
  {
   "cell_type": "code",
   "execution_count": 77,
   "id": "a1d8834f-a729-44ba-98ad-4b527b64f89c",
   "metadata": {},
   "outputs": [
    {
     "name": "stdout",
     "output_type": "stream",
     "text": [
      "15\n"
     ]
    }
   ],
   "source": [
    "x = 10\n",
    "y = 5\n",
    "\n",
    "print (x|y)"
   ]
  },
  {
   "cell_type": "code",
   "execution_count": 79,
   "id": "1a299ce8-3d85-4bde-9483-5e551d87da91",
   "metadata": {},
   "outputs": [
    {
     "name": "stdout",
     "output_type": "stream",
     "text": [
      "0\n"
     ]
    }
   ],
   "source": [
    "print (x&y)"
   ]
  },
  {
   "cell_type": "markdown",
   "id": "6d550aae-b37a-4385-95e9-dd9748fbc698",
   "metadata": {},
   "source": [
    "# Comparison Operator"
   ]
  },
  {
   "cell_type": "code",
   "execution_count": 82,
   "id": "79935ac4-2073-4c4f-9a07-2eb9dd955d98",
   "metadata": {},
   "outputs": [
    {
     "data": {
      "text/plain": [
       "True"
      ]
     },
     "execution_count": 82,
     "metadata": {},
     "output_type": "execute_result"
    }
   ],
   "source": [
    "10 == 10"
   ]
  },
  {
   "cell_type": "code",
   "execution_count": 84,
   "id": "7840d184-8641-4982-8bec-82e1c09f02be",
   "metadata": {},
   "outputs": [
    {
     "data": {
      "text/plain": [
       "False"
      ]
     },
     "execution_count": 84,
     "metadata": {},
     "output_type": "execute_result"
    }
   ],
   "source": [
    "10>10"
   ]
  },
  {
   "cell_type": "code",
   "execution_count": 86,
   "id": "698c1035-82da-4616-85a5-bf58e0bdcecc",
   "metadata": {},
   "outputs": [
    {
     "data": {
      "text/plain": [
       "True"
      ]
     },
     "execution_count": 86,
     "metadata": {},
     "output_type": "execute_result"
    }
   ],
   "source": [
    "10>=10"
   ]
  },
  {
   "cell_type": "code",
   "execution_count": 88,
   "id": "e9a46a60-06ae-4254-901a-6d08c7179136",
   "metadata": {},
   "outputs": [
    {
     "data": {
      "text/plain": [
       "False"
      ]
     },
     "execution_count": 88,
     "metadata": {},
     "output_type": "execute_result"
    }
   ],
   "source": [
    "10>4 and 10<3"
   ]
  },
  {
   "cell_type": "code",
   "execution_count": 90,
   "id": "5afda48e-9bbb-409e-ba05-530724b6d918",
   "metadata": {},
   "outputs": [
    {
     "data": {
      "text/plain": [
       "True"
      ]
     },
     "execution_count": 90,
     "metadata": {},
     "output_type": "execute_result"
    }
   ],
   "source": [
    "10>4 or 10<3"
   ]
  },
  {
   "cell_type": "code",
   "execution_count": 92,
   "id": "a0aa1608-656a-470d-bd99-a1afbd4507f7",
   "metadata": {},
   "outputs": [
    {
     "data": {
      "text/plain": [
       "False"
      ]
     },
     "execution_count": 92,
     "metadata": {},
     "output_type": "execute_result"
    }
   ],
   "source": [
    "not(10>4 or 10<3)"
   ]
  },
  {
   "cell_type": "code",
   "execution_count": null,
   "id": "6a35fb9f-e998-4935-b3ea-7c4d0d45d2c7",
   "metadata": {},
   "outputs": [],
   "source": []
  }
 ],
 "metadata": {
  "kernelspec": {
   "display_name": "Python 3 (ipykernel)",
   "language": "python",
   "name": "python3"
  },
  "language_info": {
   "codemirror_mode": {
    "name": "ipython",
    "version": 3
   },
   "file_extension": ".py",
   "mimetype": "text/x-python",
   "name": "python",
   "nbconvert_exporter": "python",
   "pygments_lexer": "ipython3",
   "version": "3.12.4"
  }
 },
 "nbformat": 4,
 "nbformat_minor": 5
}
