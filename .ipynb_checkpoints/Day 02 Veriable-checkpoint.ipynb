{
 "cells": [
  {
   "cell_type": "markdown",
   "id": "f23ca195-cb32-40e0-b869-16cc6644768b",
   "metadata": {},
   "source": [
    "# Learn Python Basic"
   ]
  },
  {
   "cell_type": "code",
   "execution_count": 59,
   "id": "0536f69e-cbef-42ea-af1c-44e35b02f957",
   "metadata": {},
   "outputs": [],
   "source": [
    "#Use(#)for comment \n",
    "#(shift+Enter) for run code"
   ]
  },
  {
   "cell_type": "markdown",
   "id": "38c0a135-46a0-43ff-909d-b24506bf7b6c",
   "metadata": {},
   "source": [
    "# How to create Heading"
   ]
  },
  {
   "cell_type": "markdown",
   "id": "43580b85-e9af-4be2-8e0a-ce80f00f4e2f",
   "metadata": {},
   "source": [
    "Step 1: Select Markdown\n",
    "Step 2: Write your Heading with comment with #. like-(# Hello_World) Give an space after #\n",
    "Step 3: Ctrl + Enter"
   ]
  },
  {
   "cell_type": "markdown",
   "id": "cab6841b-a0ed-4fcb-b014-cf9da5a710f7",
   "metadata": {},
   "source": [
    "# Print() Function"
   ]
  },
  {
   "cell_type": "code",
   "execution_count": 64,
   "id": "0b9c6e0b-8f96-4bd7-a537-7e812333264d",
   "metadata": {},
   "outputs": [
    {
     "name": "stdout",
     "output_type": "stream",
     "text": [
      "Hello world, Welcome to the python World\n"
     ]
    }
   ],
   "source": [
    "#if we want to print something use print() function\n",
    "print('Hello world, Welcome to the python World')"
   ]
  },
  {
   "cell_type": "markdown",
   "id": "1dc27c31-1418-42f6-9218-28fe4dd6066d",
   "metadata": {},
   "source": [
    "If we want to see what is in the behind the function use (shift+tab)"
   ]
  },
  {
   "cell_type": "markdown",
   "id": "8d9cb294-784d-4fff-ac83-4783799281ac",
   "metadata": {},
   "source": [
    "# Variable in Python"
   ]
  },
  {
   "cell_type": "markdown",
   "id": "89bfcf30-137c-4c4e-910e-9d653770552a",
   "metadata": {},
   "source": [
    "Variable are like a container to storing data\n",
    "\n",
    "Multiword Variable Name\n",
    "camelCase varibale: myName\n",
    "PascleCase varibale: MyName\n",
    "snake_Case variable: my_name"
   ]
  },
  {
   "cell_type": "code",
   "execution_count": 69,
   "id": "c871e576-9ab8-4b92-a958-ca06b7ceb197",
   "metadata": {},
   "outputs": [
    {
     "name": "stdout",
     "output_type": "stream",
     "text": [
      "My name is sagor\n"
     ]
    }
   ],
   "source": [
    "My_name = 'sagor'\n",
    "print('My name is '+ My_name)"
   ]
  },
  {
   "cell_type": "code",
   "execution_count": 81,
   "id": "15b22c67-6151-4a0e-8877-445dd6a819ea",
   "metadata": {},
   "outputs": [
    {
     "name": "stdout",
     "output_type": "stream",
     "text": [
      "300\n",
      "100\n",
      "500\n"
     ]
    }
   ],
   "source": [
    "#Multiple Variable\n",
    "x,y,z = 100,300,500\n",
    "print(y)\n",
    "print(x)\n",
    "print(z)"
   ]
  },
  {
   "cell_type": "markdown",
   "id": "b9619f59-0720-41e6-9d2a-c5b30ad7e993",
   "metadata": {},
   "source": [
    "# Casting"
   ]
  },
  {
   "cell_type": "code",
   "execution_count": 8,
   "id": "255a0320-4208-428f-84d3-f33c1194f4b2",
   "metadata": {},
   "outputs": [
    {
     "name": "stdout",
     "output_type": "stream",
     "text": [
      "100 100 100.0\n"
     ]
    }
   ],
   "source": [
    "x = str(100)\n",
    "y = int(100)\n",
    "z = float(100)\n",
    "\n",
    "print(x,y,z)"
   ]
  },
  {
   "cell_type": "markdown",
   "id": "cb259555-cb4a-4b73-b152-f22c327cda18",
   "metadata": {},
   "source": [
    "# Local vs Global Variable"
   ]
  },
  {
   "cell_type": "code",
   "execution_count": 87,
   "id": "76c1bfac-91f9-40dd-b144-9e46e65b1147",
   "metadata": {},
   "outputs": [
    {
     "name": "stdout",
     "output_type": "stream",
     "text": [
      "My Balance is:  500\n",
      "My Balance is:  1000\n"
     ]
    }
   ],
   "source": [
    "x = 1000 #Global\n",
    "\n",
    "def func1 ():\n",
    "    x = 500 #Local\n",
    "    print('My Balance is: ',x)\n",
    "\n",
    "func1 ()\n",
    "print('My Balance is: ',x)"
   ]
  },
  {
   "cell_type": "code",
   "execution_count": 17,
   "id": "dc01a39b-4704-4fbf-8fd5-9ddd6d92e639",
   "metadata": {},
   "outputs": [
    {
     "name": "stdout",
     "output_type": "stream",
     "text": [
      "Python is awesome\n"
     ]
    }
   ],
   "source": [
    "x = \"awesome\" #Global Variable\n",
    "\n",
    "def myfunc():\n",
    "  print(\"Python is \" + x)\n",
    "\n",
    "myfunc()"
   ]
  },
  {
   "cell_type": "code",
   "execution_count": 29,
   "id": "a5111439-0e55-4645-83f6-cac9a71354b1",
   "metadata": {},
   "outputs": [
    {
     "name": "stdout",
     "output_type": "stream",
     "text": [
      "Python is fantastic\n",
      "Python is awesome\n"
     ]
    }
   ],
   "source": [
    "x = 'awesome' #Global variable\n",
    "\n",
    "def myfunc():\n",
    "    x = 'fantastic' #Local Variable\n",
    "    print('Python is '+ x)\n",
    "\n",
    "myfunc()\n",
    "print('Python is '+ x)"
   ]
  },
  {
   "cell_type": "code",
   "execution_count": null,
   "id": "bf7e6cea-5601-433d-b000-4945b9433328",
   "metadata": {},
   "outputs": [],
   "source": []
  }
 ],
 "metadata": {
  "kernelspec": {
   "display_name": "Python 3 (ipykernel)",
   "language": "python",
   "name": "python3"
  },
  "language_info": {
   "codemirror_mode": {
    "name": "ipython",
    "version": 3
   },
   "file_extension": ".py",
   "mimetype": "text/x-python",
   "name": "python",
   "nbconvert_exporter": "python",
   "pygments_lexer": "ipython3",
   "version": "3.12.4"
  }
 },
 "nbformat": 4,
 "nbformat_minor": 5
}
