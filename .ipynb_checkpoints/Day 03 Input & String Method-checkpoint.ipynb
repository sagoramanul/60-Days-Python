{
 "cells": [
  {
   "cell_type": "markdown",
   "id": "69705742-c049-40cf-8617-13a5e86d2577",
   "metadata": {},
   "source": [
    "# Input () Function"
   ]
  },
  {
   "cell_type": "code",
   "execution_count": 6,
   "id": "63b69b84-0567-4359-84b8-6fdae1bb7a32",
   "metadata": {},
   "outputs": [
    {
     "data": {
      "text/plain": [
       "str"
      ]
     },
     "execution_count": 6,
     "metadata": {},
     "output_type": "execute_result"
    }
   ],
   "source": [
    "data = \"Data Science Fun\"\n",
    "type (data) #Here we see the type of variable"
   ]
  },
  {
   "cell_type": "code",
   "execution_count": 18,
   "id": "277f6c2d-c158-4064-8cfd-32e267ab0032",
   "metadata": {},
   "outputs": [
    {
     "name": "stdin",
     "output_type": "stream",
     "text": [
      " Sagor\n"
     ]
    }
   ],
   "source": [
    "#When we want to get data from user\n",
    "data = input ()"
   ]
  },
  {
   "cell_type": "code",
   "execution_count": 20,
   "id": "357ab327-2a1d-417e-a1cd-3096112f8508",
   "metadata": {},
   "outputs": [
    {
     "name": "stdin",
     "output_type": "stream",
     "text": [
      " Amanul Islam\n"
     ]
    },
    {
     "name": "stdout",
     "output_type": "stream",
     "text": [
      "Your name is: Amanul Islam\n"
     ]
    }
   ],
   "source": [
    "user_name = input ()\n",
    "print(\"Your name is: \" + user_name)"
   ]
  },
  {
   "cell_type": "markdown",
   "id": "0497ab40-40bd-449d-8413-6b20cef8c298",
   "metadata": {},
   "source": [
    "# Data Type"
   ]
  },
  {
   "cell_type": "markdown",
   "id": "21f69d56-c966-4f4e-8b2b-d315cab20086",
   "metadata": {},
   "source": [
    "In programming, data type is an important concept.\n",
    "Variables can store data of different types, and different types can do different things.\n",
    "Python has the following data types built-in by default, in these categories:\n",
    "\n",
    "Text Type:\tstr\n",
    "Numeric Types:\tint, float, complex\n",
    "Sequence Types:\tlist, tuple, range\n",
    "Mapping Type:\tdict\n",
    "Set Types:\tset, frozenset\n",
    "Boolean Type:\tbool\n",
    "Binary Types:\tbytes, bytearray, memoryview\n",
    "None Type:\tNoneType"
   ]
  },
  {
   "cell_type": "code",
   "execution_count": 15,
   "id": "21657609-f191-406d-9e3c-34396dbc06fc",
   "metadata": {},
   "outputs": [
    {
     "name": "stdout",
     "output_type": "stream",
     "text": [
      "10\n",
      "12.0\n"
     ]
    }
   ],
   "source": [
    "x = int(10)\n",
    "y = float(12)\n",
    "\n",
    "print(x)\n",
    "print(y)"
   ]
  }
 ],
 "metadata": {
  "kernelspec": {
   "display_name": "Python 3 (ipykernel)",
   "language": "python",
   "name": "python3"
  },
  "language_info": {
   "codemirror_mode": {
    "name": "ipython",
    "version": 3
   },
   "file_extension": ".py",
   "mimetype": "text/x-python",
   "name": "python",
   "nbconvert_exporter": "python",
   "pygments_lexer": "ipython3",
   "version": "3.12.4"
  }
 },
 "nbformat": 4,
 "nbformat_minor": 5
}
