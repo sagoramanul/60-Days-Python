{
 "cells": [
  {
   "cell_type": "markdown",
   "id": "e00bb323-0a40-4186-a17e-f97f73cec377",
   "metadata": {},
   "source": [
    "# Data Type"
   ]
  },
  {
   "cell_type": "markdown",
   "id": "575a7942-25dd-4898-97a3-5bb7ec1a25a7",
   "metadata": {},
   "source": [
    "In programming, data type is an important concept.\n",
    "\r\n",
    "Variables can store data of different types, and different types can do different thing.\r\n",
    "\r\n",
    "Python has the following data types built-in by default, in these categories:\r\n",
    "\r\n",
    "Text Type:\tstr\r\n",
    "Numeric Types:\tint, float, complex\r\n",
    "Sequence Types:\tlist, tuple, range\r\n",
    "Mapping Type:\tdict\r\n",
    "Set Types:\tset, frozenset\r\n",
    "Boolean Type:\tbool\r\n",
    "Binary Types:\tbytes, bytearray, memoryview\r\n",
    "None Type:\tNoneType"
   ]
  },
  {
   "cell_type": "markdown",
   "id": "5e4634df-1f41-46f9-8d78-8e40ac697fd5",
   "metadata": {},
   "source": [
    "# Numeric Data Type"
   ]
  },
  {
   "cell_type": "code",
   "execution_count": 17,
   "id": "27aca10a-be1b-4f4c-ab24-fe6413322e3d",
   "metadata": {},
   "outputs": [
    {
     "name": "stdout",
     "output_type": "stream",
     "text": [
      "<class 'int'>\n",
      "<class 'float'>\n",
      "<class 'complex'>\n"
     ]
    }
   ],
   "source": [
    "# Numeric Data\n",
    "\n",
    "x = 10 #int\n",
    "y = 10.5 #float\n",
    "z = 10 + 5j #complex , 10 is real number 5j is imeginary\n",
    "\n",
    "print(type(x))\n",
    "print(type(y))\n",
    "print(type(z))"
   ]
  },
  {
   "cell_type": "code",
   "execution_count": 19,
   "id": "fa612672-4864-4211-8f41-d404eebc939e",
   "metadata": {},
   "outputs": [
    {
     "data": {
      "text/plain": [
       "True"
      ]
     },
     "execution_count": 19,
     "metadata": {},
     "output_type": "execute_result"
    }
   ],
   "source": [
    "isinstance(z,complex)"
   ]
  },
  {
   "cell_type": "code",
   "execution_count": 25,
   "id": "631166d7-6f26-4f84-90dc-f2bb36f24bec",
   "metadata": {},
   "outputs": [
    {
     "data": {
      "text/plain": [
       "True"
      ]
     },
     "execution_count": 25,
     "metadata": {},
     "output_type": "execute_result"
    }
   ],
   "source": [
    "isinstance(10,int)"
   ]
  },
  {
   "cell_type": "code",
   "execution_count": 27,
   "id": "e1e8ed46-845e-4922-bff5-6e27dd7a2507",
   "metadata": {},
   "outputs": [
    {
     "data": {
      "text/plain": [
       "True"
      ]
     },
     "execution_count": 27,
     "metadata": {},
     "output_type": "execute_result"
    }
   ],
   "source": [
    "isinstance(10.5,float)"
   ]
  },
  {
   "cell_type": "code",
   "execution_count": 30,
   "id": "089d9cb6-5af1-48b7-9789-bea1154b0b6e",
   "metadata": {},
   "outputs": [
    {
     "name": "stdin",
     "output_type": "stream",
     "text": [
      "Enter complex number 10\n"
     ]
    }
   ],
   "source": [
    "n = complex(input('Enter complex number'))"
   ]
  },
  {
   "cell_type": "code",
   "execution_count": 32,
   "id": "d2d49cb7-2f6a-46bf-9a6c-ac8eb8e240bd",
   "metadata": {},
   "outputs": [
    {
     "data": {
      "text/plain": [
       "(10+0j)"
      ]
     },
     "execution_count": 32,
     "metadata": {},
     "output_type": "execute_result"
    }
   ],
   "source": [
    "n"
   ]
  },
  {
   "cell_type": "markdown",
   "id": "ae9efb05-5e64-4b4f-aa63-d3553c8f2b0f",
   "metadata": {},
   "source": [
    "# Boolean Data Type"
   ]
  },
  {
   "cell_type": "code",
   "execution_count": 39,
   "id": "26dbca93-6c29-4542-90b8-6b0c99ecdab6",
   "metadata": {},
   "outputs": [],
   "source": [
    "x = True\n",
    "y = False"
   ]
  },
  {
   "cell_type": "code",
   "execution_count": 41,
   "id": "b68d2894-1356-4981-a450-b69c2833a5f2",
   "metadata": {},
   "outputs": [
    {
     "data": {
      "text/plain": [
       "True"
      ]
     },
     "execution_count": 41,
     "metadata": {},
     "output_type": "execute_result"
    }
   ],
   "source": [
    "x"
   ]
  },
  {
   "cell_type": "code",
   "execution_count": 43,
   "id": "7d686371-f33e-47b1-930c-0de25516f986",
   "metadata": {},
   "outputs": [
    {
     "data": {
      "text/plain": [
       "False"
      ]
     },
     "execution_count": 43,
     "metadata": {},
     "output_type": "execute_result"
    }
   ],
   "source": [
    "y"
   ]
  },
  {
   "cell_type": "markdown",
   "id": "32e06a73-7b1c-4c6d-865a-ddc14ff75019",
   "metadata": {},
   "source": [
    "# Sequence Data Type"
   ]
  },
  {
   "cell_type": "markdown",
   "id": "959b026b-532c-4a92-97fd-213984ba54c7",
   "metadata": {},
   "source": [
    "# List []"
   ]
  },
  {
   "cell_type": "code",
   "execution_count": 62,
   "id": "77e80c2e-f7b5-4fff-a2f4-1dac4d327342",
   "metadata": {},
   "outputs": [],
   "source": [
    "l = [1,2,3,4, True, {1,2}, 'data', (1,2,3,4)]"
   ]
  },
  {
   "cell_type": "code",
   "execution_count": 48,
   "id": "e2adaa19-0b05-4f2f-9e97-f6ca121ecb44",
   "metadata": {},
   "outputs": [
    {
     "data": {
      "text/plain": [
       "[1, 2, 3, 4, True, {1, 2}, 'data', (1, 2, 3, 4)]"
      ]
     },
     "execution_count": 48,
     "metadata": {},
     "output_type": "execute_result"
    }
   ],
   "source": [
    "l"
   ]
  },
  {
   "cell_type": "code",
   "execution_count": 50,
   "id": "83d11dc4-098e-4cb9-897e-21e2a4bc2394",
   "metadata": {},
   "outputs": [
    {
     "data": {
      "text/plain": [
       "1"
      ]
     },
     "execution_count": 50,
     "metadata": {},
     "output_type": "execute_result"
    }
   ],
   "source": [
    "l[0]"
   ]
  },
  {
   "cell_type": "code",
   "execution_count": 64,
   "id": "ee52fe1b-38b7-4800-a841-ce4223bf8284",
   "metadata": {},
   "outputs": [
    {
     "data": {
      "text/plain": [
       "(1, 2, 3, 4)"
      ]
     },
     "execution_count": 64,
     "metadata": {},
     "output_type": "execute_result"
    }
   ],
   "source": [
    "l[-1]"
   ]
  },
  {
   "cell_type": "code",
   "execution_count": 66,
   "id": "e450525a-1f9a-4e63-a2f4-f916be3294c0",
   "metadata": {},
   "outputs": [
    {
     "data": {
      "text/plain": [
       "4"
      ]
     },
     "execution_count": 66,
     "metadata": {},
     "output_type": "execute_result"
    }
   ],
   "source": [
    "l[-1] [-1]"
   ]
  },
  {
   "cell_type": "code",
   "execution_count": 68,
   "id": "b6742e44-1673-4d45-8abe-92cb3e96f609",
   "metadata": {},
   "outputs": [
    {
     "data": {
      "text/plain": [
       "list"
      ]
     },
     "execution_count": 68,
     "metadata": {},
     "output_type": "execute_result"
    }
   ],
   "source": [
    "type(l)"
   ]
  },
  {
   "cell_type": "code",
   "execution_count": 70,
   "id": "96538a98-05f4-46f4-be5b-629956476fc0",
   "metadata": {},
   "outputs": [
    {
     "data": {
      "text/plain": [
       "True"
      ]
     },
     "execution_count": 70,
     "metadata": {},
     "output_type": "execute_result"
    }
   ],
   "source": [
    "isinstance(l,list)"
   ]
  },
  {
   "cell_type": "markdown",
   "id": "0c9360f0-af77-40cd-acfc-5f3a02020d1f",
   "metadata": {},
   "source": [
    "# Tuple ()"
   ]
  },
  {
   "cell_type": "code",
   "execution_count": 72,
   "id": "50ab2eaa-c14f-430a-a557-cecf40a344f6",
   "metadata": {},
   "outputs": [],
   "source": [
    "t = (1,2,3,4,'AI')"
   ]
  },
  {
   "cell_type": "code",
   "execution_count": 74,
   "id": "eb54b8aa-09d3-4747-b157-8a3557b150b4",
   "metadata": {},
   "outputs": [
    {
     "data": {
      "text/plain": [
       "(1, 2, 3, 4, 'AI')"
      ]
     },
     "execution_count": 74,
     "metadata": {},
     "output_type": "execute_result"
    }
   ],
   "source": [
    "t"
   ]
  },
  {
   "cell_type": "code",
   "execution_count": 78,
   "id": "30640767-6580-485e-a3c4-44a32cf42afe",
   "metadata": {},
   "outputs": [
    {
     "data": {
      "text/plain": [
       "tuple"
      ]
     },
     "execution_count": 78,
     "metadata": {},
     "output_type": "execute_result"
    }
   ],
   "source": [
    "type(t)"
   ]
  },
  {
   "cell_type": "code",
   "execution_count": 80,
   "id": "b86d352a-f746-4144-946d-8c298ee9005f",
   "metadata": {},
   "outputs": [
    {
     "data": {
      "text/plain": [
       "1"
      ]
     },
     "execution_count": 80,
     "metadata": {},
     "output_type": "execute_result"
    }
   ],
   "source": [
    "t[0]"
   ]
  },
  {
   "cell_type": "code",
   "execution_count": 84,
   "id": "5dd72060-da80-49a6-ba9b-82f152ccd0e8",
   "metadata": {},
   "outputs": [
    {
     "data": {
      "text/plain": [
       "(1, 2, 3, 4)"
      ]
     },
     "execution_count": 84,
     "metadata": {},
     "output_type": "execute_result"
    }
   ],
   "source": [
    "t[0:4]"
   ]
  },
  {
   "cell_type": "markdown",
   "id": "2aede2f3-7617-4c74-8ccc-8c915f859a17",
   "metadata": {},
   "source": [
    "# Range()"
   ]
  },
  {
   "cell_type": "code",
   "execution_count": 86,
   "id": "1d7cb517-ed08-42b0-9d7f-e089233a5386",
   "metadata": {},
   "outputs": [],
   "source": [
    "x = range(10)"
   ]
  },
  {
   "cell_type": "code",
   "execution_count": 88,
   "id": "29ac7a0f-3364-494a-b001-edf322e62a57",
   "metadata": {},
   "outputs": [
    {
     "data": {
      "text/plain": [
       "range(0, 10)"
      ]
     },
     "execution_count": 88,
     "metadata": {},
     "output_type": "execute_result"
    }
   ],
   "source": [
    "x"
   ]
  },
  {
   "cell_type": "markdown",
   "id": "0e5f3197-6cde-4a85-a978-b5f65ede3474",
   "metadata": {},
   "source": [
    "# Array"
   ]
  },
  {
   "cell_type": "code",
   "execution_count": 91,
   "id": "4af86a77-37e1-4665-9ac6-deedcd9247d7",
   "metadata": {},
   "outputs": [],
   "source": [
    "import array as ar"
   ]
  },
  {
   "cell_type": "code",
   "execution_count": 103,
   "id": "d7a09636-e3ef-43d7-9170-1e65ed093ac9",
   "metadata": {},
   "outputs": [],
   "source": [
    "a = ar.array('i',[1,2,3,4,5,6,7,8,9])"
   ]
  },
  {
   "cell_type": "code",
   "execution_count": 105,
   "id": "a315c1e9-3cca-4773-8975-a0a8df1af11e",
   "metadata": {},
   "outputs": [
    {
     "data": {
      "text/plain": [
       "array('i', [1, 2, 3, 4, 5, 6, 7, 8, 9])"
      ]
     },
     "execution_count": 105,
     "metadata": {},
     "output_type": "execute_result"
    }
   ],
   "source": [
    "a"
   ]
  },
  {
   "cell_type": "code",
   "execution_count": 107,
   "id": "db0d77c3-d2d9-4ff9-80fc-1fc9ce780e05",
   "metadata": {},
   "outputs": [
    {
     "data": {
      "text/plain": [
       "array.array"
      ]
     },
     "execution_count": 107,
     "metadata": {},
     "output_type": "execute_result"
    }
   ],
   "source": [
    "type(a)"
   ]
  },
  {
   "cell_type": "markdown",
   "id": "46859d53-3293-40ca-9ccc-1b7a8b1542bf",
   "metadata": {},
   "source": [
    "# String"
   ]
  },
  {
   "cell_type": "code",
   "execution_count": 109,
   "id": "deb965f9-2b0a-4257-a668-0f71cd8aa92f",
   "metadata": {},
   "outputs": [],
   "source": [
    "s = 'sagor'"
   ]
  },
  {
   "cell_type": "code",
   "execution_count": 111,
   "id": "374379a2-7e91-4909-a20f-f9f09743e500",
   "metadata": {},
   "outputs": [
    {
     "data": {
      "text/plain": [
       "'sagor'"
      ]
     },
     "execution_count": 111,
     "metadata": {},
     "output_type": "execute_result"
    }
   ],
   "source": [
    "s"
   ]
  },
  {
   "cell_type": "code",
   "execution_count": 113,
   "id": "4c355e6e-fda6-4cf8-bdf5-868f765c144b",
   "metadata": {},
   "outputs": [
    {
     "data": {
      "text/plain": [
       "str"
      ]
     },
     "execution_count": 113,
     "metadata": {},
     "output_type": "execute_result"
    }
   ],
   "source": [
    "type(s)"
   ]
  },
  {
   "cell_type": "markdown",
   "id": "81914758-f80b-418f-b131-780f7b356ab1",
   "metadata": {},
   "source": [
    "# Set Data Type"
   ]
  },
  {
   "cell_type": "code",
   "execution_count": 126,
   "id": "49d41b13-3142-405c-b910-37146e498d8c",
   "metadata": {},
   "outputs": [],
   "source": [
    "#inside the curliBracket all are set {}\n",
    "m = {1,2,3,4,5,6}"
   ]
  },
  {
   "cell_type": "code",
   "execution_count": 128,
   "id": "239b6038-cba5-40e0-aa41-afb1ba116fbd",
   "metadata": {},
   "outputs": [
    {
     "data": {
      "text/plain": [
       "set"
      ]
     },
     "execution_count": 128,
     "metadata": {},
     "output_type": "execute_result"
    }
   ],
   "source": [
    "type(m)"
   ]
  },
  {
   "cell_type": "markdown",
   "id": "c8a0b633-6313-409f-8b6e-1044e088dc14",
   "metadata": {},
   "source": [
    "# Dictionary Data Type"
   ]
  },
  {
   "cell_type": "code",
   "execution_count": 131,
   "id": "32bb1197-4345-44e0-aed1-45c6d0f1ff0c",
   "metadata": {},
   "outputs": [],
   "source": [
    "dic = {\n",
    "    'Name' : 'Md Amanul Islam',\n",
    "    'Department' : 'Computing and Information System',\n",
    "    'Varsity':'Daffodil International University',\n",
    "}"
   ]
  },
  {
   "cell_type": "code",
   "execution_count": 133,
   "id": "133210ca-adf7-4600-8e7a-88a2787f8714",
   "metadata": {},
   "outputs": [
    {
     "data": {
      "text/plain": [
       "dict"
      ]
     },
     "execution_count": 133,
     "metadata": {},
     "output_type": "execute_result"
    }
   ],
   "source": [
    "type(dic)"
   ]
  },
  {
   "cell_type": "code",
   "execution_count": 144,
   "id": "c0e462ef-a633-499e-b181-996cfca0ea9d",
   "metadata": {},
   "outputs": [
    {
     "data": {
      "text/plain": [
       "dict_keys(['Name', 'Department', 'Varsity'])"
      ]
     },
     "execution_count": 144,
     "metadata": {},
     "output_type": "execute_result"
    }
   ],
   "source": [
    "dic.keys()"
   ]
  },
  {
   "cell_type": "code",
   "execution_count": 146,
   "id": "e4aaedd5-9225-4c30-922f-89cfc0a98400",
   "metadata": {},
   "outputs": [
    {
     "data": {
      "text/plain": [
       "dict_values(['Md Amanul Islam', 'Computing and Information System', 'Daffodil International University'])"
      ]
     },
     "execution_count": 146,
     "metadata": {},
     "output_type": "execute_result"
    }
   ],
   "source": [
    "dic.values()"
   ]
  },
  {
   "cell_type": "markdown",
   "id": "c136af04-7e93-48d8-b85b-ca7f1e1f3a51",
   "metadata": {},
   "source": [
    "# Data Frame (Pandas)"
   ]
  },
  {
   "cell_type": "code",
   "execution_count": 153,
   "id": "3ff11312-bd30-4dab-9a2b-30e396b96579",
   "metadata": {},
   "outputs": [],
   "source": [
    "import pandas as pd\n",
    "\n",
    "# df = pd.read_csv(file_name.csv)"
   ]
  },
  {
   "cell_type": "markdown",
   "id": "b1a5bf94-ff5d-45e6-8d42-8254e66386a9",
   "metadata": {},
   "source": [
    "# Binary Type"
   ]
  },
  {
   "cell_type": "code",
   "execution_count": 156,
   "id": "3e75ce72-56d7-4458-b8c8-068ce72eed38",
   "metadata": {},
   "outputs": [],
   "source": [
    "byte_arr = bytearray('ABCDEF','utf-8')"
   ]
  },
  {
   "cell_type": "code",
   "execution_count": 158,
   "id": "329562ae-1d4b-41f2-9c6d-4121c82a057c",
   "metadata": {},
   "outputs": [
    {
     "data": {
      "text/plain": [
       "bytearray"
      ]
     },
     "execution_count": 158,
     "metadata": {},
     "output_type": "execute_result"
    }
   ],
   "source": [
    "type(byte_arr)"
   ]
  },
  {
   "cell_type": "code",
   "execution_count": 160,
   "id": "e9a86734-8482-46f5-a547-278f62360a5f",
   "metadata": {},
   "outputs": [
    {
     "data": {
      "text/plain": [
       "bytearray(b'ABCDEF')"
      ]
     },
     "execution_count": 160,
     "metadata": {},
     "output_type": "execute_result"
    }
   ],
   "source": [
    "byte_arr"
   ]
  },
  {
   "cell_type": "code",
   "execution_count": 162,
   "id": "04977e9c-1770-4d0e-8bb7-95cb0e9b6bf6",
   "metadata": {},
   "outputs": [
    {
     "data": {
      "text/plain": [
       "<memory at 0x000002085CB1AE00>"
      ]
     },
     "execution_count": 162,
     "metadata": {},
     "output_type": "execute_result"
    }
   ],
   "source": [
    "memoryview(byte_arr)"
   ]
  },
  {
   "cell_type": "code",
   "execution_count": 164,
   "id": "ec39f750-5d35-4428-8b16-7f51e15b1b87",
   "metadata": {},
   "outputs": [
    {
     "data": {
      "text/plain": [
       "65"
      ]
     },
     "execution_count": 164,
     "metadata": {},
     "output_type": "execute_result"
    }
   ],
   "source": [
    "memoryview(byte_arr)[0]"
   ]
  },
  {
   "cell_type": "code",
   "execution_count": null,
   "id": "0337d2f3-936b-4ff6-bcd5-f14bd834b494",
   "metadata": {},
   "outputs": [],
   "source": []
  }
 ],
 "metadata": {
  "kernelspec": {
   "display_name": "Python 3 (ipykernel)",
   "language": "python",
   "name": "python3"
  },
  "language_info": {
   "codemirror_mode": {
    "name": "ipython",
    "version": 3
   },
   "file_extension": ".py",
   "mimetype": "text/x-python",
   "name": "python",
   "nbconvert_exporter": "python",
   "pygments_lexer": "ipython3",
   "version": "3.12.4"
  }
 },
 "nbformat": 4,
 "nbformat_minor": 5
}
