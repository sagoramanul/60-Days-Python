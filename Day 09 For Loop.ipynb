{
 "cells": [
  {
   "cell_type": "markdown",
   "id": "22745b9d-ecca-4562-a203-d88333e41f40",
   "metadata": {},
   "source": [
    "# For Loop"
   ]
  },
  {
   "cell_type": "code",
   "execution_count": 2,
   "id": "aa5050e7-67c8-4d37-bf0b-c7b312ae20da",
   "metadata": {},
   "outputs": [
    {
     "name": "stdout",
     "output_type": "stream",
     "text": [
      "AI\n",
      "Data Science\n",
      "Machine Learning\n",
      "Artificial Intelligence\n"
     ]
    }
   ],
   "source": [
    "subjects = [\"AI\", \"Data Science\", \"Machine Learning\", \"Artificial Intelligence\"]\n",
    "\n",
    "for x in subjects:\n",
    "    print(x)"
   ]
  },
  {
   "cell_type": "code",
   "execution_count": 14,
   "id": "45a35740-0136-4f4c-8702-daddb3b3efb1",
   "metadata": {},
   "outputs": [
    {
     "name": "stdout",
     "output_type": "stream",
     "text": [
      "learn p\n",
      "learn y\n",
      "learn t\n",
      "learn h\n",
      "learn o\n",
      "learn n\n"
     ]
    }
   ],
   "source": [
    "data = 'python'\n",
    "\n",
    "for x in data:\n",
    "    print('learn',x)"
   ]
  },
  {
   "cell_type": "code",
   "execution_count": 26,
   "id": "25849a9d-3c9b-4ec7-8bd3-6ac459c98eaf",
   "metadata": {},
   "outputs": [
    {
     "name": "stdout",
     "output_type": "stream",
     "text": [
      "2\n",
      "5\n",
      "14\n",
      "29\n",
      "95\n"
     ]
    }
   ],
   "source": [
    "# Addition all the number using for loop\n",
    "n =[2,3,9,15,66]\n",
    "total = 0\n",
    "\n",
    "for i in n:\n",
    "    total = total+i\n",
    "    print(total)"
   ]
  },
  {
   "cell_type": "code",
   "execution_count": null,
   "id": "9bc2564e-996f-4570-adc3-948802ddb85b",
   "metadata": {},
   "outputs": [],
   "source": []
  }
 ],
 "metadata": {
  "kernelspec": {
   "display_name": "Python 3 (ipykernel)",
   "language": "python",
   "name": "python3"
  },
  "language_info": {
   "codemirror_mode": {
    "name": "ipython",
    "version": 3
   },
   "file_extension": ".py",
   "mimetype": "text/x-python",
   "name": "python",
   "nbconvert_exporter": "python",
   "pygments_lexer": "ipython3",
   "version": "3.12.4"
  }
 },
 "nbformat": 4,
 "nbformat_minor": 5
}
