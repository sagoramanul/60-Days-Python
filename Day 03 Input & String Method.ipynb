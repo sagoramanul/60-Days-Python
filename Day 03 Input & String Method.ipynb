{
 "cells": [
  {
   "cell_type": "markdown",
   "id": "69705742-c049-40cf-8617-13a5e86d2577",
   "metadata": {},
   "source": [
    "# Input () Function"
   ]
  },
  {
   "cell_type": "code",
   "execution_count": 6,
   "id": "63b69b84-0567-4359-84b8-6fdae1bb7a32",
   "metadata": {},
   "outputs": [
    {
     "data": {
      "text/plain": [
       "str"
      ]
     },
     "execution_count": 6,
     "metadata": {},
     "output_type": "execute_result"
    }
   ],
   "source": [
    "data = \"Data Science Fun\"\n",
    "type (data) #Here we see the type of variable"
   ]
  },
  {
   "cell_type": "code",
   "execution_count": 18,
   "id": "277f6c2d-c158-4064-8cfd-32e267ab0032",
   "metadata": {},
   "outputs": [
    {
     "name": "stdin",
     "output_type": "stream",
     "text": [
      " Sagor\n"
     ]
    }
   ],
   "source": [
    "#When we want to get data from user\n",
    "data = input ()"
   ]
  },
  {
   "cell_type": "code",
   "execution_count": 20,
   "id": "357ab327-2a1d-417e-a1cd-3096112f8508",
   "metadata": {},
   "outputs": [
    {
     "name": "stdin",
     "output_type": "stream",
     "text": [
      " Amanul Islam\n"
     ]
    },
    {
     "name": "stdout",
     "output_type": "stream",
     "text": [
      "Your name is: Amanul Islam\n"
     ]
    }
   ],
   "source": [
    "user_name = input ()\n",
    "print(\"Your name is: \" + user_name)"
   ]
  },
  {
   "cell_type": "markdown",
   "id": "0497ab40-40bd-449d-8413-6b20cef8c298",
   "metadata": {},
   "source": [
    "# String Method"
   ]
  },
  {
   "cell_type": "markdown",
   "id": "21f69d56-c966-4f4e-8b2b-d315cab20086",
   "metadata": {},
   "source": [
    "In programming, data type is an important concept.\n",
    "Variables can store data of different types, and different types can do different things.\n",
    "Python has the following data types built-in by default, in these categories:\n",
    "\n",
    "Text Type:\tstr\n",
    "Numeric Types:\tint, float, complex\n",
    "Sequence Types:\tlist, tuple, range\n",
    "Mapping Type:\tdict\n",
    "Set Types:\tset, frozenset\n",
    "Boolean Type:\tbool\n",
    "Binary Types:\tbytes, bytearray, memoryview\n",
    "None Type:\tNoneType"
   ]
  },
  {
   "cell_type": "code",
   "execution_count": 3,
   "id": "21657609-f191-406d-9e3c-34396dbc06fc",
   "metadata": {},
   "outputs": [
    {
     "name": "stdout",
     "output_type": "stream",
     "text": [
      "10\n",
      "12.0\n",
      "15\n"
     ]
    }
   ],
   "source": [
    "x = int(10)\n",
    "y = float(12)\n",
    "z = '15'\n",
    "\n",
    "print(x)\n",
    "print(y)\n",
    "print(z)"
   ]
  },
  {
   "cell_type": "code",
   "execution_count": 30,
   "id": "833e66de-2332-47c1-a4ce-a654be3a7cfd",
   "metadata": {},
   "outputs": [
    {
     "name": "stdin",
     "output_type": "stream",
     "text": [
      "Enter Your First Number:  125\n",
      "Enter your Second Number:  126.23\n"
     ]
    }
   ],
   "source": [
    "#take input with data type from user\n",
    "x = int(input('Enter Your First Number: '))\n",
    "y = float (input('Enter your Second Number: '))"
   ]
  },
  {
   "cell_type": "code",
   "execution_count": 6,
   "id": "33e3e176-026d-4a4b-8378-5fb74c5cadec",
   "metadata": {},
   "outputs": [
    {
     "data": {
      "text/plain": [
       "7"
      ]
     },
     "execution_count": 6,
     "metadata": {},
     "output_type": "execute_result"
    }
   ],
   "source": [
    "#Find word/Latter value from number using .find()\n",
    "data = (\"I Like Python\")\n",
    "\n",
    "data.find(\"Python\")"
   ]
  },
  {
   "cell_type": "code",
   "execution_count": 8,
   "id": "0b1cc27e-0d13-46e5-87f0-f589b11c4219",
   "metadata": {},
   "outputs": [
    {
     "data": {
      "text/plain": [
       "'i like python'"
      ]
     },
     "execution_count": 8,
     "metadata": {},
     "output_type": "execute_result"
    }
   ],
   "source": [
    "#Convert all character in lowercase using .lower()\n",
    "data.lower()"
   ]
  },
  {
   "cell_type": "code",
   "execution_count": 10,
   "id": "cd92caeb-04bd-4dce-b2e0-5645239aeaeb",
   "metadata": {},
   "outputs": [
    {
     "data": {
      "text/plain": [
       "'i like python'"
      ]
     },
     "execution_count": 10,
     "metadata": {},
     "output_type": "execute_result"
    }
   ],
   "source": [
    "#Convert all character in lowercase using .casefold()\n",
    "data.casefold()"
   ]
  },
  {
   "cell_type": "code",
   "execution_count": 12,
   "id": "71e45249-bf2a-49f6-8379-31701e1a1a81",
   "metadata": {},
   "outputs": [
    {
     "data": {
      "text/plain": [
       "'I LIKE PYTHON'"
      ]
     },
     "execution_count": 12,
     "metadata": {},
     "output_type": "execute_result"
    }
   ],
   "source": [
    "#Convert all character in uppercase using .upper()\n",
    "data.upper()"
   ]
  },
  {
   "cell_type": "code",
   "execution_count": 14,
   "id": "7ebc2e91-8b68-4abe-8412-6b555e37b3f3",
   "metadata": {},
   "outputs": [
    {
     "data": {
      "text/plain": [
       "'I like python'"
      ]
     },
     "execution_count": 14,
     "metadata": {},
     "output_type": "execute_result"
    }
   ],
   "source": [
    "#Convert only First character using .capitalize()\n",
    "data.capitalize()"
   ]
  },
  {
   "cell_type": "code",
   "execution_count": 16,
   "id": "cb6667d6-8aea-4af7-9ef3-37e92cbdab5e",
   "metadata": {},
   "outputs": [
    {
     "data": {
      "text/plain": [
       "'i lIKE pYTHON'"
      ]
     },
     "execution_count": 16,
     "metadata": {},
     "output_type": "execute_result"
    }
   ],
   "source": [
    "#Change charecter upper to low .swapcase()\n",
    "data.swapcase()"
   ]
  },
  {
   "cell_type": "code",
   "execution_count": 18,
   "id": "5f9e94c0-f453-4510-b7ac-22dd40c72ae1",
   "metadata": {},
   "outputs": [
    {
     "data": {
      "text/plain": [
       "'I Like Python'"
      ]
     },
     "execution_count": 18,
     "metadata": {},
     "output_type": "execute_result"
    }
   ],
   "source": [
    "#For first charecter upper for every word use .title()\n",
    "data.title()"
   ]
  },
  {
   "cell_type": "code",
   "execution_count": 20,
   "id": "5630b233-a270-4456-a76e-6d03301c6999",
   "metadata": {},
   "outputs": [
    {
     "data": {
      "text/plain": [
       "'                                           I Like Python                                            '"
      ]
     },
     "execution_count": 20,
     "metadata": {},
     "output_type": "execute_result"
    }
   ],
   "source": [
    "#Text Center use .center()\n",
    "data.center(100)"
   ]
  },
  {
   "cell_type": "code",
   "execution_count": 22,
   "id": "924e49cf-02b7-44b3-995e-93c1a829034a",
   "metadata": {},
   "outputs": [
    {
     "data": {
      "text/plain": [
       "'I Love Python'"
      ]
     },
     "execution_count": 22,
     "metadata": {},
     "output_type": "execute_result"
    }
   ],
   "source": [
    "#For replace Data use .replace()\n",
    "data.replace('Like','Love')"
   ]
  },
  {
   "cell_type": "code",
   "execution_count": 24,
   "id": "c096d25f-a56a-40bf-a594-3cc96f65065b",
   "metadata": {},
   "outputs": [
    {
     "name": "stdout",
     "output_type": "stream",
     "text": [
      "I have 1000 taka\n"
     ]
    }
   ],
   "source": [
    "x = 10\n",
    "y = 100\n",
    "z = x*y\n",
    "\n",
    "print('I have', z , 'taka')"
   ]
  },
  {
   "cell_type": "code",
   "execution_count": 26,
   "id": "9ae45644-915c-436f-a12b-0eb26dae6468",
   "metadata": {},
   "outputs": [
    {
     "name": "stdout",
     "output_type": "stream",
     "text": [
      "I have 1000 taka\n"
     ]
    }
   ],
   "source": [
    "print('I have {} taka'.format(z))"
   ]
  },
  {
   "cell_type": "code",
   "execution_count": null,
   "id": "74fb555c-bb86-42c2-9582-d65a57f2dada",
   "metadata": {},
   "outputs": [],
   "source": []
  }
 ],
 "metadata": {
  "kernelspec": {
   "display_name": "Python 3 (ipykernel)",
   "language": "python",
   "name": "python3"
  },
  "language_info": {
   "codemirror_mode": {
    "name": "ipython",
    "version": 3
   },
   "file_extension": ".py",
   "mimetype": "text/x-python",
   "name": "python",
   "nbconvert_exporter": "python",
   "pygments_lexer": "ipython3",
   "version": "3.12.4"
  }
 },
 "nbformat": 4,
 "nbformat_minor": 5
}
