{
 "cells": [
  {
   "cell_type": "markdown",
   "id": "57c3f814-8d61-4996-87f7-ca87fae2cd0c",
   "metadata": {},
   "source": [
    "# Operator"
   ]
  },
  {
   "cell_type": "markdown",
   "id": "e3fde298-bb8e-4ecd-9767-34fc9e970427",
   "metadata": {},
   "source": [
    "Python divides the operators in the following groups:\r\n",
    "\r\n",
    "Arithmetic operators\r\n",
    "Assignment operators\r\n",
    "Comparison operators\r\n",
    "Logical operators\r\n",
    "Identity operators\r\n",
    "Membership operators\r\n",
    "Bitwise operators"
   ]
  },
  {
   "cell_type": "markdown",
   "id": "2ed10646-088d-48da-85cb-344fa9c48848",
   "metadata": {},
   "source": [
    "# Arithmetic Operators"
   ]
  },
  {
   "cell_type": "markdown",
   "id": "60d3fed4-ee30-45a8-af50-0e5483ba0bb3",
   "metadata": {},
   "source": [
    "Operator\tName\t           Example\r\n",
    "+        \tAddition          \tx + \n",
    " -        \tSubtrac n        \tx -y     *        \tMultiplic  n    \tx * y\t               \n",
    "/        \tDv ti on        \tx / y        \t        \r\n",
    "%         Mod   lu            s\tx % y        \t        \r\n",
    "        Exponentiation\t    x ** y     \t\r",
    "        Floor division\t    x // y// y"
   ]
  },
  {
   "cell_type": "markdown",
   "id": "9aec685b-9201-4771-866e-8a246fe7a105",
   "metadata": {},
   "source": [
    "# Assignment Operators"
   ]
  },
  {
   "cell_type": "markdown",
   "id": "a401302e-1d9c-4692-acc4-47b56c4ecd5b",
   "metadata": {},
   "source": [
    "Operator\tExample\t    Same As\r\n",
    "=        \tx = 5    \tx = 5\t\r\n",
    "+        =\tx +=     3\tx = x + 3\t\r\n",
    "        -=\tx -=     3\tx = x - 3\t\r",
    "        \n",
    "*=\tx *    = 3\tx = x * 3\t        \r\n",
    "/=\tx     /= 3\tx = x / 3        \t\r\n",
    "%=\tx     %= 3\tx = x % 3        \t\r\n",
    "//=\tx     //= 3\tx = x //         3\t\r\n",
    "**=\t    x **= 3\tx = x *        * 3\t\r\n",
    "&    =\tx &= 3\tx = x         & 3\t\r\n",
    "    |=\tx |= 3\tx = x | 3x = x << 3"
   ]
  },
  {
   "cell_type": "markdown",
   "id": "f9d65c9b-c98d-4705-91b0-a6cf53d1deed",
   "metadata": {},
   "source": [
    "# Comparison Operators"
   ]
  },
  {
   "cell_type": "markdown",
   "id": "ba29323a-ff9c-4cd2-b4e2-24e576d3aade",
   "metadata": {},
   "source": [
    "Operator  Name\t                      Example\n",
    "==\t      Equal\t                      x == y\t\n",
    "!=\t      Not equal\t                  x != y\t\n",
    ">\t      Greater than\t              x > y\t\n",
    "<\t      Less than\t                  x < y\t\n",
    ">=\t      Greater than or equal to\t  x >= y\t\n",
    "<=\t      Less than or equal to\t      x <= y"
   ]
  },
  {
   "cell_type": "markdown",
   "id": "fccfb7d3-14e5-4ad8-a396-abbcb8cf783a",
   "metadata": {},
   "source": [
    "# Logical Operators"
   ]
  },
  {
   "cell_type": "markdown",
   "id": "a79444ea-edd1-4286-9b13-34ab635aa7b1",
   "metadata": {},
   "source": [
    "Operator\tDescription\t                                                   Example\tTry it\n",
    "and \t    Returns True if both statements are true\t                   x < 5 and  x < 10\t\n",
    "or\t        Returns True if one of the statements is true\t               x < 5 or x < 4\t\n",
    "not\t        Reverse the result, returns False if the result is true\tnot    (x < 5 and x < 10)"
   ]
  },
  {
   "cell_type": "markdown",
   "id": "504d6d14-782d-470f-98a6-31d079beb9c7",
   "metadata": {},
   "source": [
    "# Bitwise Operators"
   ]
  },
  {
   "cell_type": "markdown",
   "id": "9af3011f-ef68-45fb-988e-c955aa20b54e",
   "metadata": {},
   "source": [
    "Operator\tName\t            \tExample\t\n",
    "& \t        AND\t    \t            x & y\t\n",
    "|\t        OR\t    \t            x | y\t\n",
    "^\t        XOR\t    \t            x ^ y\t\n",
    "~\t        NOT\t    \t            ~x\t\n",
    "<<\t        Zero    \t            x << 2\t\n",
    ">>\t        Signed right shift\t\tx >> 2"
   ]
  },
  {
   "cell_type": "markdown",
   "id": "52d0d5cb-3259-4d8d-bc16-95fad313f785",
   "metadata": {},
   "source": [
    "# The precedence order is described in the table below, starting with the highest precedence at the top:"
   ]
  },
  {
   "cell_type": "markdown",
   "id": "f2f30dad-cb7a-4a73-8d96-9b4f6de3072d",
   "metadata": {},
   "source": [
    "Operator\tDescription\n",
    "()\t        Parentheses\t\n",
    "**\t        Exponentiation\t\n",
    "+x  -x  ~x\tUnary plus, unary minus, and bitwise NOT\t\n",
    "*  /  //  %\tMultiplication, division, floor division, and modulus\t\n",
    "+  -\t    Addition and subtraction\t\n",
    "<<  >>\t    Bitwise left and right shifts\t\n",
    "&\t        Bitwise AND\t\n",
    "^\t        Bitwise XOR\t\n",
    "|\t        Bitwise OR\t\n",
    "==  !=  >  >=  <  <=  is  is not  in  not in \tComparisons, identity, and membership operators\t\n",
    "not\t        Logical NOT\t\n",
    "and\t        AND\t\n",
    "or\t        OR"
   ]
  }
 ],
 "metadata": {
  "kernelspec": {
   "display_name": "Python 3 (ipykernel)",
   "language": "python",
   "name": "python3"
  },
  "language_info": {
   "codemirror_mode": {
    "name": "ipython",
    "version": 3
   },
   "file_extension": ".py",
   "mimetype": "text/x-python",
   "name": "python",
   "nbconvert_exporter": "python",
   "pygments_lexer": "ipython3",
   "version": "3.12.4"
  }
 },
 "nbformat": 4,
 "nbformat_minor": 5
}
